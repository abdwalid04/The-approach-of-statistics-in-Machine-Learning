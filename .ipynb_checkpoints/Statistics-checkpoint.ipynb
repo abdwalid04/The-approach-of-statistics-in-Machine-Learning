{
 "cells": [
  {
   "cell_type": "code",
   "execution_count": 1,
   "id": "eaf3d5c3",
   "metadata": {},
   "outputs": [],
   "source": [
    "import pandas as pd"
   ]
  },
  {
   "cell_type": "code",
   "execution_count": 2,
   "id": "5ca2c3dd",
   "metadata": {},
   "outputs": [],
   "source": [
    "dataset = pd.read_csv(\"california_housing.csv\", sep=\";\")"
   ]
  },
  {
   "cell_type": "code",
   "execution_count": 3,
   "id": "a4a13efc",
   "metadata": {},
   "outputs": [
    {
     "data": {
      "text/html": [
       "<div>\n",
       "<style scoped>\n",
       "    .dataframe tbody tr th:only-of-type {\n",
       "        vertical-align: middle;\n",
       "    }\n",
       "\n",
       "    .dataframe tbody tr th {\n",
       "        vertical-align: top;\n",
       "    }\n",
       "\n",
       "    .dataframe thead th {\n",
       "        text-align: right;\n",
       "    }\n",
       "</style>\n",
       "<table border=\"1\" class=\"dataframe\">\n",
       "  <thead>\n",
       "    <tr style=\"text-align: right;\">\n",
       "      <th></th>\n",
       "      <th>Latitude</th>\n",
       "      <th>Longitude</th>\n",
       "      <th>MedInc</th>\n",
       "      <th>HouseAge</th>\n",
       "      <th>AveRooms</th>\n",
       "      <th>AveBedrms</th>\n",
       "      <th>Population</th>\n",
       "      <th>AveOccup</th>\n",
       "      <th>Ocean_proximity</th>\n",
       "      <th>MedValue</th>\n",
       "    </tr>\n",
       "  </thead>\n",
       "  <tbody>\n",
       "    <tr>\n",
       "      <th>0</th>\n",
       "      <td>37.88</td>\n",
       "      <td>-122.23</td>\n",
       "      <td>8.3252</td>\n",
       "      <td>41.0</td>\n",
       "      <td>6.984127</td>\n",
       "      <td>1.023810</td>\n",
       "      <td>322.0</td>\n",
       "      <td>2.555556</td>\n",
       "      <td>0</td>\n",
       "      <td>4.526</td>\n",
       "    </tr>\n",
       "    <tr>\n",
       "      <th>1</th>\n",
       "      <td>37.86</td>\n",
       "      <td>-122.22</td>\n",
       "      <td>8.3014</td>\n",
       "      <td>21.0</td>\n",
       "      <td>6.238137</td>\n",
       "      <td>0.971880</td>\n",
       "      <td>2401.0</td>\n",
       "      <td>2.109842</td>\n",
       "      <td>0</td>\n",
       "      <td>3.585</td>\n",
       "    </tr>\n",
       "    <tr>\n",
       "      <th>2</th>\n",
       "      <td>37.85</td>\n",
       "      <td>-122.24</td>\n",
       "      <td>7.2574</td>\n",
       "      <td>52.0</td>\n",
       "      <td>8.288136</td>\n",
       "      <td>1.073446</td>\n",
       "      <td>496.0</td>\n",
       "      <td>2.802260</td>\n",
       "      <td>0</td>\n",
       "      <td>3.521</td>\n",
       "    </tr>\n",
       "    <tr>\n",
       "      <th>3</th>\n",
       "      <td>37.85</td>\n",
       "      <td>-122.25</td>\n",
       "      <td>5.6431</td>\n",
       "      <td>52.0</td>\n",
       "      <td>5.817352</td>\n",
       "      <td>1.073059</td>\n",
       "      <td>558.0</td>\n",
       "      <td>2.547945</td>\n",
       "      <td>0</td>\n",
       "      <td>3.413</td>\n",
       "    </tr>\n",
       "    <tr>\n",
       "      <th>4</th>\n",
       "      <td>37.85</td>\n",
       "      <td>-122.25</td>\n",
       "      <td>3.8462</td>\n",
       "      <td>52.0</td>\n",
       "      <td>6.281853</td>\n",
       "      <td>1.081081</td>\n",
       "      <td>565.0</td>\n",
       "      <td>2.181467</td>\n",
       "      <td>0</td>\n",
       "      <td>3.422</td>\n",
       "    </tr>\n",
       "    <tr>\n",
       "      <th>...</th>\n",
       "      <td>...</td>\n",
       "      <td>...</td>\n",
       "      <td>...</td>\n",
       "      <td>...</td>\n",
       "      <td>...</td>\n",
       "      <td>...</td>\n",
       "      <td>...</td>\n",
       "      <td>...</td>\n",
       "      <td>...</td>\n",
       "      <td>...</td>\n",
       "    </tr>\n",
       "    <tr>\n",
       "      <th>20635</th>\n",
       "      <td>39.48</td>\n",
       "      <td>-121.09</td>\n",
       "      <td>1.5603</td>\n",
       "      <td>25.0</td>\n",
       "      <td>5.045455</td>\n",
       "      <td>1.133333</td>\n",
       "      <td>845.0</td>\n",
       "      <td>2.560606</td>\n",
       "      <td>2</td>\n",
       "      <td>0.781</td>\n",
       "    </tr>\n",
       "    <tr>\n",
       "      <th>20636</th>\n",
       "      <td>39.49</td>\n",
       "      <td>-121.21</td>\n",
       "      <td>2.5568</td>\n",
       "      <td>18.0</td>\n",
       "      <td>6.114035</td>\n",
       "      <td>1.315789</td>\n",
       "      <td>356.0</td>\n",
       "      <td>3.122807</td>\n",
       "      <td>2</td>\n",
       "      <td>0.771</td>\n",
       "    </tr>\n",
       "    <tr>\n",
       "      <th>20637</th>\n",
       "      <td>39.43</td>\n",
       "      <td>-121.22</td>\n",
       "      <td>1.7000</td>\n",
       "      <td>17.0</td>\n",
       "      <td>5.205543</td>\n",
       "      <td>1.120092</td>\n",
       "      <td>1007.0</td>\n",
       "      <td>2.325635</td>\n",
       "      <td>2</td>\n",
       "      <td>0.923</td>\n",
       "    </tr>\n",
       "    <tr>\n",
       "      <th>20638</th>\n",
       "      <td>39.43</td>\n",
       "      <td>-121.32</td>\n",
       "      <td>1.8672</td>\n",
       "      <td>18.0</td>\n",
       "      <td>5.329513</td>\n",
       "      <td>1.171920</td>\n",
       "      <td>741.0</td>\n",
       "      <td>2.123209</td>\n",
       "      <td>2</td>\n",
       "      <td>0.847</td>\n",
       "    </tr>\n",
       "    <tr>\n",
       "      <th>20639</th>\n",
       "      <td>39.37</td>\n",
       "      <td>-121.24</td>\n",
       "      <td>2.3886</td>\n",
       "      <td>16.0</td>\n",
       "      <td>5.254717</td>\n",
       "      <td>1.162264</td>\n",
       "      <td>1387.0</td>\n",
       "      <td>2.616981</td>\n",
       "      <td>2</td>\n",
       "      <td>0.894</td>\n",
       "    </tr>\n",
       "  </tbody>\n",
       "</table>\n",
       "<p>20640 rows × 10 columns</p>\n",
       "</div>"
      ],
      "text/plain": [
       "       Latitude  Longitude  MedInc  HouseAge  AveRooms  AveBedrms  Population  \\\n",
       "0         37.88    -122.23  8.3252      41.0  6.984127   1.023810       322.0   \n",
       "1         37.86    -122.22  8.3014      21.0  6.238137   0.971880      2401.0   \n",
       "2         37.85    -122.24  7.2574      52.0  8.288136   1.073446       496.0   \n",
       "3         37.85    -122.25  5.6431      52.0  5.817352   1.073059       558.0   \n",
       "4         37.85    -122.25  3.8462      52.0  6.281853   1.081081       565.0   \n",
       "...         ...        ...     ...       ...       ...        ...         ...   \n",
       "20635     39.48    -121.09  1.5603      25.0  5.045455   1.133333       845.0   \n",
       "20636     39.49    -121.21  2.5568      18.0  6.114035   1.315789       356.0   \n",
       "20637     39.43    -121.22  1.7000      17.0  5.205543   1.120092      1007.0   \n",
       "20638     39.43    -121.32  1.8672      18.0  5.329513   1.171920       741.0   \n",
       "20639     39.37    -121.24  2.3886      16.0  5.254717   1.162264      1387.0   \n",
       "\n",
       "       AveOccup  Ocean_proximity  MedValue  \n",
       "0      2.555556                0     4.526  \n",
       "1      2.109842                0     3.585  \n",
       "2      2.802260                0     3.521  \n",
       "3      2.547945                0     3.413  \n",
       "4      2.181467                0     3.422  \n",
       "...         ...              ...       ...  \n",
       "20635  2.560606                2     0.781  \n",
       "20636  3.122807                2     0.771  \n",
       "20637  2.325635                2     0.923  \n",
       "20638  2.123209                2     0.847  \n",
       "20639  2.616981                2     0.894  \n",
       "\n",
       "[20640 rows x 10 columns]"
      ]
     },
     "execution_count": 3,
     "metadata": {},
     "output_type": "execute_result"
    }
   ],
   "source": [
    "dataset"
   ]
  },
  {
   "cell_type": "code",
   "execution_count": 4,
   "id": "5ed7d7fd",
   "metadata": {},
   "outputs": [],
   "source": [
    "import math\n",
    "import statistics\n",
    "import numpy as np\n",
    "import pandas as pd"
   ]
  },
  {
   "cell_type": "code",
   "execution_count": 5,
   "id": "f1b7fc0a",
   "metadata": {},
   "outputs": [],
   "source": [
    "import scipy.stats"
   ]
  },
  {
   "cell_type": "markdown",
   "id": "1fd90149",
   "metadata": {},
   "source": [
    "we gonna calculate :"
   ]
  },
  {
   "cell_type": "markdown",
   "id": "bade81c8",
   "metadata": {},
   "source": [
    "<h4>Central tendency</h4>tells you about the centers of the data. Useful measures include the mean, median, and mode.\n",
    "<h4>Variability</h4>tells you about the spread of the data. Useful measures include variance and standard deviation.\n",
    "<h4>Correlation</h4>or joint variability tells you about the relation between a pair of variables in a dataset. Useful measures include covariance and the correlation coefficient."
   ]
  },
  {
   "cell_type": "markdown",
   "id": "b00720cd",
   "metadata": {},
   "source": [
    "---------------------------------------------"
   ]
  },
  {
   "cell_type": "markdown",
   "id": "86a8df34",
   "metadata": {},
   "source": [
    "# Univarié"
   ]
  },
  {
   "cell_type": "markdown",
   "id": "79dc4bb6",
   "metadata": {},
   "source": [
    "<h3>Measures of Central Tendency:</h3>"
   ]
  },
  {
   "cell_type": "raw",
   "id": "28d15351",
   "metadata": {},
   "source": [
    "The measures of central tendency show the central or middle values of datasets. \n",
    "* Mean           - La moyenne\n",
    "* Weighted mean  - Moyenne pondérée\n",
    "* Geometric mean - Moyenne geometrique\n",
    "* Median         - La mediane\n",
    "* Mode           - Le mode"
   ]
  },
  {
   "cell_type": "markdown",
   "id": "cc51d09e",
   "metadata": {},
   "source": [
    " "
   ]
  },
  {
   "cell_type": "markdown",
   "id": "4213229d",
   "metadata": {},
   "source": [
    " "
   ]
  },
  {
   "cell_type": "code",
   "execution_count": 6,
   "id": "2d3afef9",
   "metadata": {},
   "outputs": [
    {
     "data": {
      "text/plain": [
       "array([[  37.88      , -122.23      ,    8.3252    , ...,    2.55555556,\n",
       "           0.        ,    4.526     ],\n",
       "       [  37.86      , -122.22      ,    8.3014    , ...,    2.10984183,\n",
       "           0.        ,    3.585     ],\n",
       "       [  37.85      , -122.24      ,    7.2574    , ...,    2.80225989,\n",
       "           0.        ,    3.521     ],\n",
       "       ...,\n",
       "       [  39.43      , -121.22      ,    1.7       , ...,    2.3256351 ,\n",
       "           2.        ,    0.923     ],\n",
       "       [  39.43      , -121.32      ,    1.8672    , ...,    2.12320917,\n",
       "           2.        ,    0.847     ],\n",
       "       [  39.37      , -121.24      ,    2.3886    , ...,    2.61698113,\n",
       "           2.        ,    0.894     ]])"
      ]
     },
     "execution_count": 6,
     "metadata": {},
     "output_type": "execute_result"
    }
   ],
   "source": [
    "dataset.values"
   ]
  },
  {
   "cell_type": "code",
   "execution_count": 7,
   "id": "8149bd09",
   "metadata": {},
   "outputs": [],
   "source": [
    "X=[dataset.values[0],dataset.values[1],dataset.values[2],dataset.values[3],dataset.values[4],dataset.values[5],dataset.values[6],dataset.values[7],dataset.values[8],dataset.values[9]]"
   ]
  },
  {
   "cell_type": "code",
   "execution_count": 8,
   "id": "e1c81038",
   "metadata": {},
   "outputs": [
    {
     "data": {
      "text/plain": [
       "10"
      ]
     },
     "execution_count": 8,
     "metadata": {},
     "output_type": "execute_result"
    }
   ],
   "source": [
    "len(X)"
   ]
  },
  {
   "cell_type": "code",
   "execution_count": 9,
   "id": "7b0f9924",
   "metadata": {},
   "outputs": [
    {
     "data": {
      "text/plain": [
       "array([  37.88      , -122.23      ,    8.3252    ,   41.        ,\n",
       "          6.98412698,    1.02380952,  322.        ,    2.55555556,\n",
       "          0.        ,    4.526     ])"
      ]
     },
     "execution_count": 9,
     "metadata": {},
     "output_type": "execute_result"
    }
   ],
   "source": [
    "X[0]"
   ]
  },
  {
   "cell_type": "markdown",
   "id": "365aad3c",
   "metadata": {},
   "source": [
    " "
   ]
  },
  {
   "cell_type": "markdown",
   "id": "036e3e77",
   "metadata": {},
   "source": [
    " <h4>Mean</h4>"
   ]
  },
  {
   "cell_type": "markdown",
   "id": "fd89f1a6",
   "metadata": {},
   "source": [
    "The sample mean, also called the sample arithmetic mean or simply the average, is the arithmetic average of all the items in a dataset. The mean of a dataset 𝑥 is mathematically expressed as Σᵢ𝑥ᵢ/𝑛, where 𝑖 = 1, 2, …, 𝑛. In other words, it’s the sum of all the elements 𝑥ᵢ divided by the number of items in the dataset 𝑥."
   ]
  },
  {
   "cell_type": "markdown",
   "id": "394ee0f8",
   "metadata": {},
   "source": [
    " "
   ]
  },
  {
   "cell_type": "code",
   "execution_count": 10,
   "id": "b14cded1",
   "metadata": {},
   "outputs": [],
   "source": [
    "def mean_(x):\n",
    "    return sum(x) / len(x)"
   ]
  },
  {
   "cell_type": "code",
   "execution_count": 11,
   "id": "24c3c28c",
   "metadata": {},
   "outputs": [
    {
     "data": {
      "text/plain": [
       "30.206469206349205"
      ]
     },
     "execution_count": 11,
     "metadata": {},
     "output_type": "execute_result"
    }
   ],
   "source": [
    "statistics.mean(X[0])"
   ]
  },
  {
   "cell_type": "code",
   "execution_count": 12,
   "id": "b6927644",
   "metadata": {},
   "outputs": [
    {
     "data": {
      "text/plain": [
       "[30.206469206349205,\n",
       " 235.88462594024605,\n",
       " 48.65522418079097,\n",
       " 54.40944561643836,\n",
       " 54.94126015444016,\n",
       " 39.533898134715024,\n",
       " 107.62527731517507,\n",
       " 113.77716043276662,\n",
       " 117.5366055462185,\n",
       " 153.30252532212884]"
      ]
     },
     "execution_count": 12,
     "metadata": {},
     "output_type": "execute_result"
    }
   ],
   "source": [
    "means=[]\n",
    "for x in X:\n",
    "    means.append(mean_(x))\n",
    "means"
   ]
  },
  {
   "cell_type": "markdown",
   "id": "b555a90e",
   "metadata": {},
   "source": [
    "if the dataset has nan values, there is the methode nanmean in numpy that calculates the mean ignoring the nan values :"
   ]
  },
  {
   "cell_type": "code",
   "execution_count": 13,
   "id": "913abf45",
   "metadata": {},
   "outputs": [
    {
     "data": {
      "text/plain": [
       "30.206469206349208"
      ]
     },
     "execution_count": 13,
     "metadata": {},
     "output_type": "execute_result"
    }
   ],
   "source": [
    "np.nanmean(X[0])"
   ]
  },
  {
   "cell_type": "markdown",
   "id": "c74ce59f",
   "metadata": {},
   "source": [
    "<h4>Weighted Mean</h4>"
   ]
  },
  {
   "cell_type": "markdown",
   "id": "0081e115",
   "metadata": {},
   "source": [
    "The weighted mean, also called the weighted arithmetic mean or weighted average, is a generalization of the arithmetic mean that enables you to define the relative contribution of each data point to the result.\n",
    "\n",
    "You define one weight 𝑤ᵢ for each data point 𝑥ᵢ of the dataset 𝑥, where 𝑖 = 1, 2, …, 𝑛 and 𝑛 is the number of items in 𝑥. Then, you multiply each data point with the corresponding weight, sum all the products, and divide the obtained sum with the sum of weights: Σᵢ(𝑤ᵢ𝑥ᵢ) / Σᵢ𝑤ᵢ."
   ]
  },
  {
   "cell_type": "code",
   "execution_count": null,
   "id": "c2301da1",
   "metadata": {},
   "outputs": [],
   "source": []
  },
  {
   "cell_type": "markdown",
   "id": "5f5fd1b4",
   "metadata": {},
   "source": [
    "<h4>Geometric mean</h4>"
   ]
  },
  {
   "cell_type": "markdown",
   "id": "9b9bc05b",
   "metadata": {},
   "source": [
    "The geometric mean is the 𝑛-th root of the product of all 𝑛 elements 𝑥ᵢ in a dataset 𝑥: ⁿ√(Πᵢ𝑥ᵢ), where 𝑖 = 1, 2, …, 𝑛."
   ]
  },
  {
   "cell_type": "code",
   "execution_count": 14,
   "id": "d981aedb",
   "metadata": {},
   "outputs": [],
   "source": [
    "def Gmean(x):\n",
    "    gmean = 1\n",
    "    for item in x:\n",
    "        gmean *= item\n",
    "    return gmean**1 / len(x)"
   ]
  },
  {
   "cell_type": "code",
   "execution_count": 15,
   "id": "aa7200be",
   "metadata": {},
   "outputs": [
    {
     "data": {
      "text/plain": [
       "-0.0"
      ]
     },
     "execution_count": 15,
     "metadata": {},
     "output_type": "execute_result"
    }
   ],
   "source": [
    "Gmean(X[0])"
   ]
  },
  {
   "cell_type": "code",
   "execution_count": 16,
   "id": "dcd11004",
   "metadata": {},
   "outputs": [
    {
     "data": {
      "text/plain": [
       "array([  37.88      , -122.23      ,    8.3252    ,   41.        ,\n",
       "          6.98412698,    1.02380952,  322.        ,    2.55555556,\n",
       "          0.        ,    4.526     ])"
      ]
     },
     "execution_count": 16,
     "metadata": {},
     "output_type": "execute_result"
    }
   ],
   "source": [
    "X[0]"
   ]
  },
  {
   "cell_type": "code",
   "execution_count": 17,
   "id": "5a0483a1",
   "metadata": {},
   "outputs": [],
   "source": [
    "# statistics.geometric_mean(X[0])"
   ]
  },
  {
   "cell_type": "markdown",
   "id": "b57d4b88",
   "metadata": {},
   "source": [
    "If you have nan values in a dataset, then gmean() will return nan. If there’s at least one 0, then it’ll return 0.0 and give a warning. If you provide at least one negative number, then you’ll get nan and the warning."
   ]
  },
  {
   "cell_type": "markdown",
   "id": "7339a2dc",
   "metadata": {},
   "source": [
    "<h4>Mediane</h4>"
   ]
  },
  {
   "cell_type": "markdown",
   "id": "671ea539",
   "metadata": {},
   "source": [
    "The sample median is the middle element of a sorted dataset. The dataset can be sorted in increasing or decreasing order. If the number of elements 𝑛 of the dataset is odd, then the median is the value at the middle position: 0.5(𝑛 + 1). If 𝑛 is even, then the median is the arithmetic mean of the two values in the middle, that is, the items at the positions 0.5𝑛 and 0.5𝑛 + 1."
   ]
  },
  {
   "cell_type": "markdown",
   "id": "41c611b5",
   "metadata": {},
   "source": [
    "The main difference between the behavior of the mean and median is related to dataset outliers or extremes. The mean is heavily affected by outliers, but the median only depends on outliers either slightly or not at all"
   ]
  },
  {
   "cell_type": "code",
   "execution_count": 18,
   "id": "c0a6cd87",
   "metadata": {},
   "outputs": [],
   "source": [
    "def Mediane(x):\n",
    "    n = len(x)\n",
    "    if n % 2:\n",
    "        median_ = sorted(x)[round(0.5*(n-1))]\n",
    "    else:\n",
    "        x_ord, index = sorted(x), round(0.5 * n)\n",
    "        median_ = 0.5 * (x_ord[index-1] + x_ord[index])\n",
    "    \n",
    "    return median_"
   ]
  },
  {
   "cell_type": "code",
   "execution_count": 19,
   "id": "9d2cc6b3",
   "metadata": {},
   "outputs": [
    {
     "data": {
      "text/plain": [
       "5.755063492063492"
      ]
     },
     "execution_count": 19,
     "metadata": {},
     "output_type": "execute_result"
    }
   ],
   "source": [
    "Mediane(X[0])"
   ]
  },
  {
   "cell_type": "code",
   "execution_count": 20,
   "id": "880f1a8e",
   "metadata": {},
   "outputs": [
    {
     "data": {
      "text/plain": [
       "5.755063492063492"
      ]
     },
     "execution_count": 20,
     "metadata": {},
     "output_type": "execute_result"
    }
   ],
   "source": [
    "statistics.median(X[0])"
   ]
  },
  {
   "cell_type": "code",
   "execution_count": 21,
   "id": "af08cca0",
   "metadata": {},
   "outputs": [
    {
     "data": {
      "text/plain": [
       "[5.755063492063492,\n",
       " 4.911568541300527,\n",
       " 5.3892,\n",
       " 4.5280499999999995,\n",
       " 3.6341,\n",
       " 3.3669000000000002,\n",
       " 3.32555,\n",
       " 2.7670000000000003,\n",
       " 2.1737,\n",
       " 3.1511]"
      ]
     },
     "execution_count": 21,
     "metadata": {},
     "output_type": "execute_result"
    }
   ],
   "source": [
    "medians=[]\n",
    "for x in X:\n",
    "    medians.append(Mediane(x))\n",
    "medians"
   ]
  },
  {
   "cell_type": "markdown",
   "id": "f1b383f8",
   "metadata": {},
   "source": [
    "median_low() and median_high() are two more functions related to the median in the Python statistics library. They always return an element from the dataset:\n",
    "\n",
    "If the number of elements is odd, then there’s a single middle value, so these functions behave just like median().\n",
    "If the number of elements is even, then there are two middle values. In this case, median_low() returns the lower and median_high() the higher middle value."
   ]
  },
  {
   "cell_type": "code",
   "execution_count": 22,
   "id": "d9bb224c",
   "metadata": {},
   "outputs": [
    {
     "name": "stdout",
     "output_type": "stream",
     "text": [
      "6.984126984126984\n",
      "5.755063492063492\n"
     ]
    }
   ],
   "source": [
    "print(Mediane(X[0][:-1]))\n",
    "\n",
    "print(Mediane(X[0]))"
   ]
  },
  {
   "cell_type": "markdown",
   "id": "88c73dd3",
   "metadata": {},
   "source": [
    "<h4>Mode</h4>\n"
   ]
  },
  {
   "cell_type": "markdown",
   "id": "579abc36",
   "metadata": {},
   "source": [
    "The sample mode is the value in the dataset that occurs most frequently. If there isn’t a single such value, then the set is multimodal since it has multiple modal values. For example, in the set that contains the points 2, 3, 2, 8, and 12, the number 2 is the mode because it occurs twice, unlike the other items that occur only once."
   ]
  },
  {
   "cell_type": "code",
   "execution_count": 23,
   "id": "5fcef0c8",
   "metadata": {},
   "outputs": [],
   "source": [
    "def mode(x):\n",
    "    x=list(x)\n",
    "    mode_ = max((x.count(item), item) for item in set(x))[1]\n",
    "    return mode_"
   ]
  },
  {
   "cell_type": "code",
   "execution_count": null,
   "id": "c477bb4b",
   "metadata": {},
   "outputs": [],
   "source": []
  },
  {
   "cell_type": "code",
   "execution_count": 24,
   "id": "648d0db6",
   "metadata": {},
   "outputs": [
    {
     "data": {
      "text/plain": [
       "322.0"
      ]
     },
     "execution_count": 24,
     "metadata": {},
     "output_type": "execute_result"
    }
   ],
   "source": [
    "mode(X[0])"
   ]
  },
  {
   "cell_type": "code",
   "execution_count": 25,
   "id": "c723999f",
   "metadata": {},
   "outputs": [
    {
     "data": {
      "text/plain": [
       "37.88"
      ]
     },
     "execution_count": 25,
     "metadata": {},
     "output_type": "execute_result"
    }
   ],
   "source": [
    "statistics.mode(X[0])"
   ]
  },
  {
   "cell_type": "markdown",
   "id": "c3d3e14e",
   "metadata": {},
   "source": [
    "If there’s more than one modal value"
   ]
  },
  {
   "cell_type": "code",
   "execution_count": 26,
   "id": "adecc0b1",
   "metadata": {},
   "outputs": [
    {
     "data": {
      "text/plain": [
       "[37.88,\n",
       " -122.23,\n",
       " 8.3252,\n",
       " 41.0,\n",
       " 6.984126984126984,\n",
       " 1.0238095238095235,\n",
       " 322.0,\n",
       " 2.555555555555556,\n",
       " 0.0,\n",
       " 4.526]"
      ]
     },
     "execution_count": 26,
     "metadata": {},
     "output_type": "execute_result"
    }
   ],
   "source": [
    "statistics.multimode(X[0])"
   ]
  },
  {
   "cell_type": "code",
   "execution_count": 27,
   "id": "b202b6d0",
   "metadata": {},
   "outputs": [
    {
     "data": {
      "text/plain": [
       "[322.0, 2401.0, 496.0, 558.0, 565.0, 413.0, 1094.0, 1157.0, 1206.0, 1551.0]"
      ]
     },
     "execution_count": 27,
     "metadata": {},
     "output_type": "execute_result"
    }
   ],
   "source": [
    "modes=[]\n",
    "for x in X:\n",
    "    modes.append(mode(x))\n",
    "modes"
   ]
  },
  {
   "cell_type": "code",
   "execution_count": null,
   "id": "3176cf98",
   "metadata": {},
   "outputs": [],
   "source": []
  },
  {
   "cell_type": "markdown",
   "id": "967af9c2",
   "metadata": {},
   "source": [
    "<h3> Measures of Variability </h3>"
   ]
  },
  {
   "cell_type": "markdown",
   "id": "3ceb3e64",
   "metadata": {},
   "source": [
    "The measures of central tendency aren’t sufficient to describe data. You’ll also need the measures of variability that quantify the spread of data points."
   ]
  },
  {
   "cell_type": "raw",
   "id": "aba7833f",
   "metadata": {},
   "source": [
    "* Variance           - Varience\n",
    "* Standard deviation - Écart-type"
   ]
  },
  {
   "cell_type": "markdown",
   "id": "1f707c17",
   "metadata": {},
   "source": [
    "<h4>Variance</h4>"
   ]
  },
  {
   "cell_type": "markdown",
   "id": "8a3c82b2",
   "metadata": {},
   "source": [
    "The sample variance quantifies the spread of the data. It shows numerically how far the data points are from the mean. You can express the sample variance of the dataset 𝑥 with 𝑛 elements mathematically as 𝑠² = Σᵢ(𝑥ᵢ − mean(𝑥))² / (𝑛 − 1), where 𝑖 = 1, 2, …, 𝑛 and mean(𝑥) is the sample mean of 𝑥."
   ]
  },
  {
   "cell_type": "code",
   "execution_count": 28,
   "id": "6d580ce5",
   "metadata": {},
   "outputs": [],
   "source": [
    "def variance(x):\n",
    "    n = len(x)\n",
    "    mean_ = sum(x) / n\n",
    "    var_ = sum((item - mean_)**2 for item in x) / (n - 1)\n",
    "    return var_"
   ]
  },
  {
   "cell_type": "code",
   "execution_count": 29,
   "id": "a4a8304c",
   "metadata": {},
   "outputs": [
    {
     "data": {
      "text/plain": [
       "12529.10113241864"
      ]
     },
     "execution_count": 29,
     "metadata": {},
     "output_type": "execute_result"
    }
   ],
   "source": [
    "variance(X[0])"
   ]
  },
  {
   "cell_type": "code",
   "execution_count": 30,
   "id": "c49865ae",
   "metadata": {},
   "outputs": [
    {
     "data": {
      "text/plain": [
       "12529.10113241864"
      ]
     },
     "execution_count": 30,
     "metadata": {},
     "output_type": "execute_result"
    }
   ],
   "source": [
    "statistics.variance(X[0])"
   ]
  },
  {
   "cell_type": "code",
   "execution_count": 31,
   "id": "fe93b3c6",
   "metadata": {},
   "outputs": [
    {
     "data": {
      "text/plain": [
       "12529.10113241864"
      ]
     },
     "execution_count": 31,
     "metadata": {},
     "output_type": "execute_result"
    }
   ],
   "source": [
    "X[0].var(ddof=1)"
   ]
  },
  {
   "cell_type": "code",
   "execution_count": 32,
   "id": "83954aa0",
   "metadata": {},
   "outputs": [
    {
     "data": {
      "text/plain": [
       "[12529.10113241864,\n",
       " 580591.5129173058,\n",
       " 26840.521903781562,\n",
       " 33436.30949827855,\n",
       " 34243.68409787596,\n",
       " 19341.49267578906,\n",
       " 122237.44721153591,\n",
       " 136480.04545784747,\n",
       " 148273.78899859323,\n",
       " 243301.79262943406]"
      ]
     },
     "execution_count": 32,
     "metadata": {},
     "output_type": "execute_result"
    }
   ],
   "source": [
    "variances=[]\n",
    "for x in X :\n",
    "    variances.append(variance(x))\n",
    "variances"
   ]
  },
  {
   "cell_type": "code",
   "execution_count": null,
   "id": "bb04e2f9",
   "metadata": {},
   "outputs": [],
   "source": []
  },
  {
   "cell_type": "markdown",
   "id": "7dfd4e82",
   "metadata": {},
   "source": [
    "You calculate the population variance similarly to the sample variance. However, you have to use 𝑛 in the denominator instead of 𝑛 − 1: Σᵢ(𝑥ᵢ − mean(𝑥))² / 𝑛. In this case, 𝑛 is the number of items in the entire population."
   ]
  },
  {
   "cell_type": "markdown",
   "id": "cd2bd928",
   "metadata": {},
   "source": [
    "<h4>Standard Deviation</h4>"
   ]
  },
  {
   "cell_type": "markdown",
   "id": "d67ff096",
   "metadata": {},
   "source": [
    "The sample standard deviation is another measure of data spread. It’s connected to the sample variance, as standard deviation, 𝑠, is the positive square root of the sample variance. The standard deviation is often more convenient than the variance because it has the same unit as the data points."
   ]
  },
  {
   "cell_type": "code",
   "execution_count": 33,
   "id": "b14a256a",
   "metadata": {},
   "outputs": [],
   "source": [
    "def stdev(x):\n",
    "    return variance(x)**0.5"
   ]
  },
  {
   "cell_type": "code",
   "execution_count": 34,
   "id": "9ba08a86",
   "metadata": {},
   "outputs": [
    {
     "data": {
      "text/plain": [
       "111.93346743677085"
      ]
     },
     "execution_count": 34,
     "metadata": {},
     "output_type": "execute_result"
    }
   ],
   "source": [
    "stdev(X[0])"
   ]
  },
  {
   "cell_type": "code",
   "execution_count": 35,
   "id": "457d1225",
   "metadata": {},
   "outputs": [
    {
     "data": {
      "text/plain": [
       "111.93346743677085"
      ]
     },
     "execution_count": 35,
     "metadata": {},
     "output_type": "execute_result"
    }
   ],
   "source": [
    "statistics.stdev(X[0])"
   ]
  },
  {
   "cell_type": "code",
   "execution_count": 36,
   "id": "e44db2b6",
   "metadata": {},
   "outputs": [
    {
     "data": {
      "text/plain": [
       "[111.93346743677085,\n",
       " 761.9655588786844,\n",
       " 163.83077215157584,\n",
       " 182.85598020923064,\n",
       " 185.05049067180545,\n",
       " 139.0736951252431,\n",
       " 349.62472339858334,\n",
       " 369.4320579725688,\n",
       " 385.063357122686,\n",
       " 493.2563153467313]"
      ]
     },
     "execution_count": 36,
     "metadata": {},
     "output_type": "execute_result"
    }
   ],
   "source": [
    "stdevs=[]\n",
    "for x in X:\n",
    "    stdevs.append(stdev(x))\n",
    "stdevs"
   ]
  },
  {
   "cell_type": "markdown",
   "id": "abee48b4",
   "metadata": {},
   "source": [
    "-----------------------"
   ]
  },
  {
   "cell_type": "markdown",
   "id": "6edd5761",
   "metadata": {},
   "source": [
    "# Bivarié"
   ]
  },
  {
   "cell_type": "markdown",
   "id": "ad0b1780",
   "metadata": {},
   "source": [
    "<h2>Measures of Correlation Between Pairs of Data<h2>"
   ]
  },
  {
   "cell_type": "markdown",
   "id": "341023d2",
   "metadata": {},
   "source": [
    "You’ll often need to examine the relationship between the corresponding elements of two variables in a dataset. Say there are two variables, 𝑥 and 𝑦, with an equal number of elements, 𝑛. Let 𝑥₁ from 𝑥 correspond to 𝑦₁ from 𝑦, 𝑥₂ from 𝑥 to 𝑦₂ from 𝑦, and so on. You can then say that there are 𝑛 pairs of corresponding elements: (𝑥₁, 𝑦₁), (𝑥₂, 𝑦₂), and so on.\n",
    "\n",
    "You’ll see the following measures of correlation between pairs of data:"
   ]
  },
  {
   "cell_type": "raw",
   "id": "d25ea43b",
   "metadata": {},
   "source": [
    "- Positive correlation   : exists when larger values of 𝑥 correspond to larger values of 𝑦 and vice versa.\n",
    "- Negative correlation   : exists when larger values of 𝑥 correspond to smaller values of 𝑦 and vice versa.\n",
    "- Weak or no correlation : exists if there is no such apparent relationship."
   ]
  },
  {
   "cell_type": "markdown",
   "id": "3a1f09e4",
   "metadata": {},
   "source": [
    "The two statistics that measure the correlation between datasets are covariance and the correlation coefficient."
   ]
  },
  {
   "cell_type": "markdown",
   "id": "eb86df26",
   "metadata": {},
   "source": [
    "<h4>Covariance<h4>"
   ]
  },
  {
   "cell_type": "markdown",
   "id": "8c9e2bd8",
   "metadata": {},
   "source": [
    "The sample covariance is a measure that quantifies the strength and direction of a relationship between a pair of variables:"
   ]
  },
  {
   "cell_type": "raw",
   "id": "f01e0047",
   "metadata": {},
   "source": [
    "- If the correlation is positive, then the covariance is positive, as well. A stronger relationship corresponds to a higher   value of the covariance.\n",
    "- If the correlation is negative, then the covariance is negative, as well. A stronger relationship corresponds to a lower (or    higher absolute) value of the covariance.\n",
    "- If the correlation is weak, then the covariance is close to zero."
   ]
  },
  {
   "cell_type": "markdown",
   "id": "f0fbe5b5",
   "metadata": {},
   "source": [
    "The covariance of the variables 𝑥 and 𝑦 is mathematically defined as 𝑠ˣʸ = Σᵢ (𝑥ᵢ − mean(𝑥)) (𝑦ᵢ − mean(𝑦)) / (𝑛 − 1), where 𝑖 = 1, 2, …, 𝑛, mean(𝑥) is the sample mean of 𝑥, and mean(𝑦) is the sample mean of 𝑦. It follows that the covariance of two identical variables is actually the variance: 𝑠ˣˣ = Σᵢ(𝑥ᵢ − mean(𝑥))² / (𝑛 − 1) = (𝑠ˣ)² and 𝑠ʸʸ = Σᵢ(𝑦ᵢ − mean(𝑦))² / (𝑛 − 1) = (𝑠ʸ)²."
   ]
  },
  {
   "cell_type": "code",
   "execution_count": 37,
   "id": "3534aabc",
   "metadata": {},
   "outputs": [],
   "source": [
    "def cov(x,y):\n",
    "    n = len(x)\n",
    "    mean_x, mean_y = sum(x)/n, sum(y)/n\n",
    "    cov_xy = (sum((x[k] - mean_x) * (y[k] - mean_y) for k in range(n))/(n - 1))\n",
    "    return cov_xy"
   ]
  },
  {
   "cell_type": "code",
   "execution_count": 38,
   "id": "496dadb0",
   "metadata": {},
   "outputs": [],
   "source": [
    "x_, y_=X[0],X[1]"
   ]
  },
  {
   "cell_type": "code",
   "execution_count": 39,
   "id": "661bd5b4",
   "metadata": {},
   "outputs": [
    {
     "data": {
      "text/plain": [
       "79915.44020090721"
      ]
     },
     "execution_count": 39,
     "metadata": {},
     "output_type": "execute_result"
    }
   ],
   "source": [
    "cov(x_, y_)"
   ]
  },
  {
   "cell_type": "markdown",
   "id": "0db457ce",
   "metadata": {},
   "source": [
    "NumPy has the function cov() that returns the covariance matrix:"
   ]
  },
  {
   "cell_type": "code",
   "execution_count": 40,
   "id": "9dbf83a2",
   "metadata": {},
   "outputs": [
    {
     "data": {
      "text/plain": [
       "array([[ 12529.10113242,  79915.44020091],\n",
       "       [ 79915.44020091, 580591.51291731]])"
      ]
     },
     "execution_count": 40,
     "metadata": {},
     "output_type": "execute_result"
    }
   ],
   "source": [
    "np.cov(x_, y_)"
   ]
  },
  {
   "cell_type": "code",
   "execution_count": 41,
   "id": "b06075d2",
   "metadata": {},
   "outputs": [
    {
     "data": {
      "text/plain": [
       "79915.44020090721"
      ]
     },
     "execution_count": 41,
     "metadata": {},
     "output_type": "execute_result"
    }
   ],
   "source": [
    "np.cov(x_, y_)[0,1]"
   ]
  },
  {
   "cell_type": "code",
   "execution_count": null,
   "id": "f6986377",
   "metadata": {},
   "outputs": [],
   "source": []
  },
  {
   "cell_type": "markdown",
   "id": "9422392d",
   "metadata": {},
   "source": [
    "<h4>Correlation Coefficient</h4>"
   ]
  },
  {
   "cell_type": "markdown",
   "id": "83f5b9ce",
   "metadata": {},
   "source": [
    "The correlation coefficient, or Pearson product-moment correlation coefficient, is denoted by the symbol 𝑟. The coefficient is another measure of the correlation between data. You can think of it as a standardized covariance. Here are some important facts about it:"
   ]
  },
  {
   "cell_type": "raw",
   "id": "53327090",
   "metadata": {},
   "source": [
    "-The value 𝑟 > 0 indicates positive correlation.\n",
    "-The value 𝑟 < 0 indicates negative correlation.\n",
    "-The value r = 1 is the maximum possible value of 𝑟. It corresponds to a perfect positive linear relationship between variables.\n",
    "-The value r =−1 is the minimum possible value of 𝑟. It corresponds to a perfect negative linear relationship between variables.\n",
    "-The value r ≈ 0, or when 𝑟 is around zero, means that the correlation between variables is weak."
   ]
  },
  {
   "cell_type": "markdown",
   "id": "3f61daf3",
   "metadata": {},
   "source": [
    "The mathematical formula for the correlation coefficient is 𝑟 = 𝑠ˣʸ / (𝑠ˣ𝑠ʸ) where 𝑠ˣ and 𝑠ʸ are the standard deviations of 𝑥 and 𝑦 respectively. If you have the means (mean_x and mean_y) and standard deviations (std_x, std_y) for the datasets x and y, as well as their covariance cov_xy"
   ]
  },
  {
   "cell_type": "code",
   "execution_count": 42,
   "id": "b06a73be",
   "metadata": {},
   "outputs": [],
   "source": [
    "def cor_coef(x,y):\n",
    "    n = len(x)\n",
    "    mean_x, mean_y = sum(x) / n, sum(y) / n\n",
    "    cov_xy=cov(x, y)\n",
    "    var_x = sum((item - mean_x)**2 for item in x) / (n - 1)\n",
    "    var_y = sum((item - mean_y)**2 for item in y) / (n - 1)\n",
    "    std_x, std_y = var_x ** 0.5, var_y ** 0.5\n",
    "    r = cov_xy / (std_x * std_y)\n",
    "    return r"
   ]
  },
  {
   "cell_type": "code",
   "execution_count": 43,
   "id": "98b3ba84",
   "metadata": {},
   "outputs": [],
   "source": [
    "x_, y_=X[0],X[1]"
   ]
  },
  {
   "cell_type": "code",
   "execution_count": 44,
   "id": "dcabf53b",
   "metadata": {},
   "outputs": [
    {
     "data": {
      "text/plain": [
       "0.9369909519145914"
      ]
     },
     "execution_count": 44,
     "metadata": {},
     "output_type": "execute_result"
    }
   ],
   "source": [
    "cor_coef(x_, y_)"
   ]
  },
  {
   "cell_type": "code",
   "execution_count": 45,
   "id": "9b647b94",
   "metadata": {},
   "outputs": [
    {
     "data": {
      "text/plain": [
       "array([[1.        , 0.93699095],\n",
       "       [0.93699095, 1.        ]])"
      ]
     },
     "execution_count": 45,
     "metadata": {},
     "output_type": "execute_result"
    }
   ],
   "source": [
    "np.corrcoef(x_, y_)"
   ]
  },
  {
   "cell_type": "code",
   "execution_count": 46,
   "id": "5ebbb9c0",
   "metadata": {},
   "outputs": [
    {
     "data": {
      "text/plain": [
       "0.9369909519145916"
      ]
     },
     "execution_count": 46,
     "metadata": {},
     "output_type": "execute_result"
    }
   ],
   "source": [
    "np.corrcoef(x_, y_)[0,1]"
   ]
  },
  {
   "cell_type": "code",
   "execution_count": null,
   "id": "e5863487",
   "metadata": {},
   "outputs": [],
   "source": []
  },
  {
   "cell_type": "markdown",
   "id": "e44a00d7",
   "metadata": {},
   "source": [
    "testin"
   ]
  },
  {
   "cell_type": "code",
   "execution_count": 47,
   "id": "0d3fae2e",
   "metadata": {},
   "outputs": [],
   "source": [
    "import matplotlib.pyplot as plt\n",
    "plt.style.use('ggplot')"
   ]
  },
  {
   "cell_type": "code",
   "execution_count": 48,
   "id": "2767ceb4",
   "metadata": {},
   "outputs": [],
   "source": [
    "np.random.seed(seed=0)\n",
    "x = X[5]"
   ]
  },
  {
   "cell_type": "code",
   "execution_count": 49,
   "id": "677808b0",
   "metadata": {},
   "outputs": [
    {
     "data": {
      "image/png": "[encoded data removed]",
      "text/plain": [
       "<Figure size 640x480 with 1 Axes>"
      ]
     },
     "metadata": {},
     "output_type": "display_data"
    }
   ],
   "source": [
    "fig, ax = plt.subplots()\n",
    "ax.boxplot(x, vert=False, showmeans=True, meanline=True,\n",
    "           labels=('x'), patch_artist=True,\n",
    "           medianprops={'linewidth': 2, 'color': 'purple'},\n",
    "           meanprops={'linewidth': 2, 'color': 'red'})\n",
    "plt.show()"
   ]
  },
  {
   "cell_type": "code",
   "execution_count": null,
   "id": "f34d22e0",
   "metadata": {},
   "outputs": [],
   "source": []
  }
 ],
 "metadata": {
  "kernelspec": {
   "display_name": "Python 3 (ipykernel)",
   "language": "python",
   "name": "python3"
  },
  "language_info": {
   "codemirror_mode": {
    "name": "ipython",
    "version": 3
   },
   "file_extension": ".py",
   "mimetype": "text/x-python",
   "name": "python",
   "nbconvert_exporter": "python",
   "pygments_lexer": "ipython3",
   "version": "3.10.8"
  }
 },
 "nbformat": 4,
 "nbformat_minor": 5
}
