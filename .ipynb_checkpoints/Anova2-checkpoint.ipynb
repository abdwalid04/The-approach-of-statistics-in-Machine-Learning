{
 "cells": [
  {
   "cell_type": "code",
   "execution_count": 9,
   "id": "6dad5c3a",
   "metadata": {},
   "outputs": [],
   "source": [
    "import pandas as pd"
   ]
  },
  {
   "cell_type": "code",
   "execution_count": 10,
   "id": "322bf3fa",
   "metadata": {},
   "outputs": [],
   "source": [
    "dataset = pd.read_csv(\"california_housing.csv\", sep=\";\")"
   ]
  },
  {
   "cell_type": "code",
   "execution_count": 11,
   "id": "8ec3a2a1",
   "metadata": {
    "scrolled": false
   },
   "outputs": [
    {
     "data": {
      "text/html": [
       "<div>\n",
       "<style scoped>\n",
       "    .dataframe tbody tr th:only-of-type {\n",
       "        vertical-align: middle;\n",
       "    }\n",
       "\n",
       "    .dataframe tbody tr th {\n",
       "        vertical-align: top;\n",
       "    }\n",
       "\n",
       "    .dataframe thead th {\n",
       "        text-align: right;\n",
       "    }\n",
       "</style>\n",
       "<table border=\"1\" class=\"dataframe\">\n",
       "  <thead>\n",
       "    <tr style=\"text-align: right;\">\n",
       "      <th></th>\n",
       "      <th>Latitude</th>\n",
       "      <th>Longitude</th>\n",
       "      <th>MedInc</th>\n",
       "      <th>HouseAge</th>\n",
       "      <th>AveRooms</th>\n",
       "      <th>AveBedrms</th>\n",
       "      <th>Population</th>\n",
       "      <th>AveOccup</th>\n",
       "      <th>Ocean_proximity</th>\n",
       "      <th>MedValue</th>\n",
       "    </tr>\n",
       "  </thead>\n",
       "  <tbody>\n",
       "    <tr>\n",
       "      <th>0</th>\n",
       "      <td>37.88</td>\n",
       "      <td>-122.23</td>\n",
       "      <td>8.3252</td>\n",
       "      <td>41.0</td>\n",
       "      <td>6.984127</td>\n",
       "      <td>1.023810</td>\n",
       "      <td>322.0</td>\n",
       "      <td>2.555556</td>\n",
       "      <td>0</td>\n",
       "      <td>4.526</td>\n",
       "    </tr>\n",
       "    <tr>\n",
       "      <th>1</th>\n",
       "      <td>37.86</td>\n",
       "      <td>-122.22</td>\n",
       "      <td>8.3014</td>\n",
       "      <td>21.0</td>\n",
       "      <td>6.238137</td>\n",
       "      <td>0.971880</td>\n",
       "      <td>2401.0</td>\n",
       "      <td>2.109842</td>\n",
       "      <td>0</td>\n",
       "      <td>3.585</td>\n",
       "    </tr>\n",
       "    <tr>\n",
       "      <th>2</th>\n",
       "      <td>37.85</td>\n",
       "      <td>-122.24</td>\n",
       "      <td>7.2574</td>\n",
       "      <td>52.0</td>\n",
       "      <td>8.288136</td>\n",
       "      <td>1.073446</td>\n",
       "      <td>496.0</td>\n",
       "      <td>2.802260</td>\n",
       "      <td>0</td>\n",
       "      <td>3.521</td>\n",
       "    </tr>\n",
       "    <tr>\n",
       "      <th>3</th>\n",
       "      <td>37.85</td>\n",
       "      <td>-122.25</td>\n",
       "      <td>5.6431</td>\n",
       "      <td>52.0</td>\n",
       "      <td>5.817352</td>\n",
       "      <td>1.073059</td>\n",
       "      <td>558.0</td>\n",
       "      <td>2.547945</td>\n",
       "      <td>0</td>\n",
       "      <td>3.413</td>\n",
       "    </tr>\n",
       "    <tr>\n",
       "      <th>4</th>\n",
       "      <td>37.85</td>\n",
       "      <td>-122.25</td>\n",
       "      <td>3.8462</td>\n",
       "      <td>52.0</td>\n",
       "      <td>6.281853</td>\n",
       "      <td>1.081081</td>\n",
       "      <td>565.0</td>\n",
       "      <td>2.181467</td>\n",
       "      <td>0</td>\n",
       "      <td>3.422</td>\n",
       "    </tr>\n",
       "    <tr>\n",
       "      <th>...</th>\n",
       "      <td>...</td>\n",
       "      <td>...</td>\n",
       "      <td>...</td>\n",
       "      <td>...</td>\n",
       "      <td>...</td>\n",
       "      <td>...</td>\n",
       "      <td>...</td>\n",
       "      <td>...</td>\n",
       "      <td>...</td>\n",
       "      <td>...</td>\n",
       "    </tr>\n",
       "    <tr>\n",
       "      <th>20635</th>\n",
       "      <td>39.48</td>\n",
       "      <td>-121.09</td>\n",
       "      <td>1.5603</td>\n",
       "      <td>25.0</td>\n",
       "      <td>5.045455</td>\n",
       "      <td>1.133333</td>\n",
       "      <td>845.0</td>\n",
       "      <td>2.560606</td>\n",
       "      <td>2</td>\n",
       "      <td>0.781</td>\n",
       "    </tr>\n",
       "    <tr>\n",
       "      <th>20636</th>\n",
       "      <td>39.49</td>\n",
       "      <td>-121.21</td>\n",
       "      <td>2.5568</td>\n",
       "      <td>18.0</td>\n",
       "      <td>6.114035</td>\n",
       "      <td>1.315789</td>\n",
       "      <td>356.0</td>\n",
       "      <td>3.122807</td>\n",
       "      <td>2</td>\n",
       "      <td>0.771</td>\n",
       "    </tr>\n",
       "    <tr>\n",
       "      <th>20637</th>\n",
       "      <td>39.43</td>\n",
       "      <td>-121.22</td>\n",
       "      <td>1.7000</td>\n",
       "      <td>17.0</td>\n",
       "      <td>5.205543</td>\n",
       "      <td>1.120092</td>\n",
       "      <td>1007.0</td>\n",
       "      <td>2.325635</td>\n",
       "      <td>2</td>\n",
       "      <td>0.923</td>\n",
       "    </tr>\n",
       "    <tr>\n",
       "      <th>20638</th>\n",
       "      <td>39.43</td>\n",
       "      <td>-121.32</td>\n",
       "      <td>1.8672</td>\n",
       "      <td>18.0</td>\n",
       "      <td>5.329513</td>\n",
       "      <td>1.171920</td>\n",
       "      <td>741.0</td>\n",
       "      <td>2.123209</td>\n",
       "      <td>2</td>\n",
       "      <td>0.847</td>\n",
       "    </tr>\n",
       "    <tr>\n",
       "      <th>20639</th>\n",
       "      <td>39.37</td>\n",
       "      <td>-121.24</td>\n",
       "      <td>2.3886</td>\n",
       "      <td>16.0</td>\n",
       "      <td>5.254717</td>\n",
       "      <td>1.162264</td>\n",
       "      <td>1387.0</td>\n",
       "      <td>2.616981</td>\n",
       "      <td>2</td>\n",
       "      <td>0.894</td>\n",
       "    </tr>\n",
       "  </tbody>\n",
       "</table>\n",
       "<p>20640 rows × 10 columns</p>\n",
       "</div>"
      ],
      "text/plain": [
       "       Latitude  Longitude  MedInc  HouseAge  AveRooms  AveBedrms  Population  \\\n",
       "0         37.88    -122.23  8.3252      41.0  6.984127   1.023810       322.0   \n",
       "1         37.86    -122.22  8.3014      21.0  6.238137   0.971880      2401.0   \n",
       "2         37.85    -122.24  7.2574      52.0  8.288136   1.073446       496.0   \n",
       "3         37.85    -122.25  5.6431      52.0  5.817352   1.073059       558.0   \n",
       "4         37.85    -122.25  3.8462      52.0  6.281853   1.081081       565.0   \n",
       "...         ...        ...     ...       ...       ...        ...         ...   \n",
       "20635     39.48    -121.09  1.5603      25.0  5.045455   1.133333       845.0   \n",
       "20636     39.49    -121.21  2.5568      18.0  6.114035   1.315789       356.0   \n",
       "20637     39.43    -121.22  1.7000      17.0  5.205543   1.120092      1007.0   \n",
       "20638     39.43    -121.32  1.8672      18.0  5.329513   1.171920       741.0   \n",
       "20639     39.37    -121.24  2.3886      16.0  5.254717   1.162264      1387.0   \n",
       "\n",
       "       AveOccup  Ocean_proximity  MedValue  \n",
       "0      2.555556                0     4.526  \n",
       "1      2.109842                0     3.585  \n",
       "2      2.802260                0     3.521  \n",
       "3      2.547945                0     3.413  \n",
       "4      2.181467                0     3.422  \n",
       "...         ...              ...       ...  \n",
       "20635  2.560606                2     0.781  \n",
       "20636  3.122807                2     0.771  \n",
       "20637  2.325635                2     0.923  \n",
       "20638  2.123209                2     0.847  \n",
       "20639  2.616981                2     0.894  \n",
       "\n",
       "[20640 rows x 10 columns]"
      ]
     },
     "execution_count": 11,
     "metadata": {},
     "output_type": "execute_result"
    }
   ],
   "source": [
    "dataset"
   ]
  },
  {
   "cell_type": "code",
   "execution_count": 12,
   "id": "2c3a1967",
   "metadata": {},
   "outputs": [],
   "source": [
    "dataset[\"Ocean_proximity\"] = dataset[\"Ocean_proximity\"].astype(\"category\")"
   ]
  },
  {
   "cell_type": "markdown",
   "id": "caf8d000",
   "metadata": {},
   "source": [
    "------------------------------------"
   ]
  },
  {
   "cell_type": "markdown",
   "id": "7315cd01",
   "metadata": {},
   "source": [
    "# ANOVA"
   ]
  },
  {
   "cell_type": "markdown",
   "id": "a85e7977",
   "metadata": {},
   "source": [
    "ANOVA stands for Analysis of Variance.It’s a statistical test, simply, ANOVA tells you if there are any statistical differences between the means of three or more independent groups. \n",
    "ANOVA helps you find out whether the differences between groups of data are statistically significant. It works by analysing the levels of variance within the groups through samples taken from each of them."
   ]
  },
  {
   "cell_type": "markdown",
   "id": "a41dc9e9",
   "metadata": {},
   "source": [
    "## How to conduct an ANOVA test"
   ]
  },
  {
   "cell_type": "markdown",
   "id": "a7a1c1ac",
   "metadata": {},
   "source": [
    "The procedure is made up of just three basic stages:\n",
    "- Stage 1: Setup the null and alternate hypothesis\n",
    "- Stage 2: Calculate the F Statistic\n",
    "- Stage 3: Calculate p value based on F value and degrees of freedom (df) Then take a decision"
   ]
  },
  {
   "cell_type": "markdown",
   "id": "083020e1",
   "metadata": {},
   "source": [
    "## 1.Formulate a Hypotheses\n",
    "\n",
    "As with nearly all statistical significance tests, ANOVA starts with formulating a null and alternative hypothesis. For this example, the hypotheses are as follows:\n",
    "\n",
    "> **Null Hypothesis (H0):** There is no difference in the MedValue between the five Ocean_proximity group's; they are all the same.\n",
    "\n",
    ">**Alternative Hypothesis (H1):** The MedValue is not the same between the five Ocean_proximity group's.\n",
    "\n",
    "**Note**, this is an omnibus test, meaning if we are able to reject the null hypothesis it will tell us that a statistically significant difference exists somewhere between these countries, but it won’t tell us where it is."
   ]
  },
  {
   "cell_type": "code",
   "execution_count": 35,
   "id": "09c57960",
   "metadata": {},
   "outputs": [
    {
     "data": {
      "text/html": [
       "<div>\n",
       "<style scoped>\n",
       "    .dataframe tbody tr th:only-of-type {\n",
       "        vertical-align: middle;\n",
       "    }\n",
       "\n",
       "    .dataframe tbody tr th {\n",
       "        vertical-align: top;\n",
       "    }\n",
       "\n",
       "    .dataframe thead th {\n",
       "        text-align: right;\n",
       "    }\n",
       "</style>\n",
       "<table border=\"1\" class=\"dataframe\">\n",
       "  <thead>\n",
       "    <tr style=\"text-align: right;\">\n",
       "      <th></th>\n",
       "      <th>MedValue</th>\n",
       "    </tr>\n",
       "    <tr>\n",
       "      <th>Ocean_proximity</th>\n",
       "      <th></th>\n",
       "    </tr>\n",
       "  </thead>\n",
       "  <tbody>\n",
       "    <tr>\n",
       "      <th>0</th>\n",
       "      <td>2.592123</td>\n",
       "    </tr>\n",
       "    <tr>\n",
       "      <th>1</th>\n",
       "      <td>2.400843</td>\n",
       "    </tr>\n",
       "    <tr>\n",
       "      <th>2</th>\n",
       "      <td>1.248054</td>\n",
       "    </tr>\n",
       "    <tr>\n",
       "      <th>3</th>\n",
       "      <td>2.494340</td>\n",
       "    </tr>\n",
       "    <tr>\n",
       "      <th>4</th>\n",
       "      <td>3.804400</td>\n",
       "    </tr>\n",
       "  </tbody>\n",
       "</table>\n",
       "</div>"
      ],
      "text/plain": [
       "                 MedValue\n",
       "Ocean_proximity          \n",
       "0                2.592123\n",
       "1                2.400843\n",
       "2                1.248054\n",
       "3                2.494340\n",
       "4                3.804400"
      ]
     },
     "execution_count": 35,
     "metadata": {},
     "output_type": "execute_result"
    }
   ],
   "source": [
    "dataset.groupby(\"Ocean_proximity\").mean()[[\"MedValue\"]]"
   ]
  },
  {
   "cell_type": "markdown",
   "id": "3a8d7aa6",
   "metadata": {},
   "source": [
    "### Set a Significance Level\n",
    "The significance level, or alpha, is the probability of rejecting our null hypothesis when it actually holds true. In other terms, it’s the probability of making a $Type I$ error.\n",
    "\n",
    "Typically, one should weigh the costs of making a $Type I$ vs. a $Type II$ error to determine the best alpha for an experiment, but for this dataset we're just going to use the standard 0.05 for our $\\alpha$ value.\n",
    "$\\alpha$ = 0.05"
   ]
  },
  {
   "cell_type": "markdown",
   "id": "b32558c9",
   "metadata": {},
   "source": [
    "## 3. Compute an F-Statistic\n",
    "\n",
    "The F-statistic is simply a ratio of the variance between samples means to the variance within sample means. For this ANOVA test, we’ll be looking at how far each country’s average wine price is from the overall average price, and dividing that by how much variation in price there is within each country’s sample distribution. The F-statistic formula is below, which may look complicated until we break it down.\n",
    "\n",
    "$$\n",
    "F = \\frac{MS_{B}}{MS_{W}} = \\frac{\\frac{SS_{B}}{DoF_{B}}}{\\frac{SS_{W}}{DoF_{W}}}\n",
    "$$\n",
    "\n",
    "Now to calculate the F-Statistic we have to : \n",
    "- Calculate the Mean \n",
    "- Calculate the Sum of Squares\n",
    "- Calculate the Degrees of Freedom\n",
    "- Calculate the Mean Squares"
   ]
  },
  {
   "cell_type": "markdown",
   "id": "145e0554",
   "metadata": {},
   "source": [
    "### Calculate Means "
   ]
  },
  {
   "cell_type": "code",
   "execution_count": 17,
   "id": "f14a8535",
   "metadata": {},
   "outputs": [
    {
     "data": {
      "text/plain": [
       "{0: 2.5921231179039284,\n",
       " 1: 2.400842854640961,\n",
       " 2: 1.2480539200122147,\n",
       " 3: 2.4943397742663604,\n",
       " 4: 3.8044}"
      ]
     },
     "execution_count": 17,
     "metadata": {},
     "output_type": "execute_result"
    }
   ],
   "source": [
    "mean_groups = dict()\n",
    "for i in pd.unique(dataset[\"Ocean_proximity\"]):\n",
    "    mean_groups[i] = dataset[dataset[\"Ocean_proximity\"] == i][\"MedValue\"].mean()\n",
    "mean_overall = dataset[\"MedValue\"].mean()\n",
    "mean_groups"
   ]
  },
  {
   "cell_type": "markdown",
   "id": "ed5048fc",
   "metadata": {},
   "source": [
    "### Calculate Sum of squares \n",
    "$SS_{B}$ =  Sum of squares between groups. This is the summation of the squared difference between each group’s mean and the overall mean times the number of elements per group. For this example, we take the mean of each Ocean_proximity’s MedValue, subtract it from the overall mean, square the difference and multiply by the number of data points per Ocean_proximity.\n",
    "\n",
    "$$\n",
    "SS_{B} = \\sum_{i=1}^{k} {n_{i}(\\bar{X}_{i} - \\bar{X})^2}\n",
    "$$"
   ]
  },
  {
   "cell_type": "code",
   "execution_count": 8,
   "id": "11e8ef03",
   "metadata": {},
   "outputs": [
    {
     "name": "stdout",
     "output_type": "stream",
     "text": [
      "Sum of Squares Between: 6543.715603857019\n"
     ]
    }
   ],
   "source": [
    "# Sum of Squares Between\n",
    "SSB = 0\n",
    "for i in pd.unique(dataset[\"Ocean_proximity\"]):\n",
    "    SSB += dataset[\"Ocean_proximity\"].value_counts()[i]*((mean_overall - mean_groups[i])**2)\n",
    "print('Sum of Squares Between: {}'.format(SSB))"
   ]
  },
  {
   "cell_type": "markdown",
   "id": "815fc1d0",
   "metadata": {},
   "source": [
    "$SS_{W}$ = Sum of squares within groups. This is the summation of the squared difference between the group-mean and each value in the group. For each Ocean_proximity’s, we would take the MedValue, then subtract and square the difference for each data points in that group.\n",
    "\n",
    "$$\n",
    "SS_{W} = \\sum_{i=1}^{k} {\\sum_{j=1}^{n_{i}} {(X_{ij} - \\bar{X_{i}})^2}}\n",
    "$$"
   ]
  },
  {
   "cell_type": "code",
   "execution_count": 9,
   "id": "38802f1a",
   "metadata": {},
   "outputs": [
    {
     "name": "stdout",
     "output_type": "stream",
     "text": [
      "Sum of Squares Within: 20944.75642582852\n"
     ]
    }
   ],
   "source": [
    "# Calculate Variances\n",
    "var_groups = dict()\n",
    "for i in pd.unique(dataset[\"Ocean_proximity\"]):\n",
    "    var_groups[i] = dataset[dataset[\"Ocean_proximity\"] == i][\"MedValue\"].var()\n",
    "\n",
    "# Sum of Squares Within (variance times n yields sum of squares)\n",
    "SSW = 0\n",
    "for i in pd.unique(dataset[\"Ocean_proximity\"]):\n",
    "    SSW += dataset[\"Ocean_proximity\"].value_counts()[i]*var_groups[i]\n",
    "\n",
    "print('Sum of Squares Within: {}'.format(SSW))"
   ]
  },
  {
   "cell_type": "markdown",
   "id": "e31f2308",
   "metadata": {},
   "source": [
    "### Calculate the Degrees of Freedom"
   ]
  },
  {
   "cell_type": "markdown",
   "id": "a0526527",
   "metadata": {},
   "source": [
    "$DoF_{B} =$ Degrees of freedom between groups, simply the number of groups minus 1. We have five different Ocean_proximity group's, so the degrees of freedom here is 4."
   ]
  },
  {
   "cell_type": "code",
   "execution_count": 10,
   "id": "3532b2f1",
   "metadata": {},
   "outputs": [
    {
     "name": "stdout",
     "output_type": "stream",
     "text": [
      "Degrees of Freedom for DoF_B: 4\n"
     ]
    }
   ],
   "source": [
    "# Degrees of Freedom Between\n",
    "dof_SSB = len(pd.unique(dataset[\"Ocean_proximity\"])) - 1\n",
    "\n",
    "print('Degrees of Freedom for DoF_B: {}'.format(dof_SSB))"
   ]
  },
  {
   "cell_type": "markdown",
   "id": "18680000",
   "metadata": {},
   "source": [
    "$DoF_{W}$ = Degrees of Freedom Within Groups, simply the number of data points minus the number of groups. We have 20,640 data points and five different Ocean_proximity group's, so this is 20,635 for this example."
   ]
  },
  {
   "cell_type": "code",
   "execution_count": 11,
   "id": "05b013a7",
   "metadata": {},
   "outputs": [
    {
     "name": "stdout",
     "output_type": "stream",
     "text": [
      "Degrees of Freedom for DoF_W: 20635\n"
     ]
    }
   ],
   "source": [
    "# Degrees of Freedom Within\n",
    "dof_SSW = len(dataset) - len(pd.unique(dataset[\"Ocean_proximity\"]))\n",
    "\n",
    "print('Degrees of Freedom for DoF_W: {}'.format(dof_SSW))"
   ]
  },
  {
   "cell_type": "markdown",
   "id": "b13bb03a",
   "metadata": {},
   "source": [
    "### Calculate the Mean Squares"
   ]
  },
  {
   "cell_type": "markdown",
   "id": "5c3c14d8",
   "metadata": {},
   "source": [
    "Dividing the sum of squares for a group by its degrees of freedom yields the mean squares for that group, and the F statistic is just a ratio of the mean squares between over the mean squares within."
   ]
  },
  {
   "cell_type": "code",
   "execution_count": 12,
   "id": "a0ad3fdf",
   "metadata": {},
   "outputs": [
    {
     "name": "stdout",
     "output_type": "stream",
     "text": [
      "F-Statistic: 1611.7348029776404\n"
     ]
    }
   ],
   "source": [
    "# F Stastics \n",
    "f_stat = (SSB/dof_SSB) / (SSW/dof_SSW)\n",
    "\n",
    "print('F-Statistic: {}'.format(f_stat))"
   ]
  },
  {
   "cell_type": "markdown",
   "id": "e0dca758",
   "metadata": {},
   "source": [
    "### Plotting F-value distrubition"
   ]
  },
  {
   "cell_type": "code",
   "execution_count": 28,
   "id": "067561ce",
   "metadata": {},
   "outputs": [
    {
     "data": {
      "text/plain": [
       "[<matplotlib.lines.Line2D at 0x25fa5560cd0>]"
      ]
     },
     "execution_count": 28,
     "metadata": {},
     "output_type": "execute_result"
    },
    {
     "data": {
      "image/png": "[encoded data removed]",
      "text/plain": [
       "<Figure size 432x288 with 1 Axes>"
      ]
     },
     "metadata": {
      "needs_background": "light"
     },
     "output_type": "display_data"
    }
   ],
   "source": [
    "import numpy as np\n",
    "from scipy.stats import f, norm\n",
    "import matplotlib.pyplot as plt\n",
    "%matplotlib inline\n",
    "\n",
    "# first f\n",
    "rv1 = f(dfn=4, dfd=20635, loc=0, scale=1)\n",
    "x = np.linspace(rv1.ppf(0.0001), rv1.ppf(0.9999), 100)\n",
    "y = rv1.pdf(x) \n",
    "\n",
    "plt.xlim(0,5)\n",
    "plt.plot(x,y, 'b-')"
   ]
  },
  {
   "cell_type": "markdown",
   "id": "e534df5f",
   "metadata": {},
   "source": [
    " ## Using the F-Statistic to compute a p-value\n",
    " \n",
    "P-value is the probability of finding the observed F value or a larger value, given that the null hypothesis is true.\n",
    "\n",
    "Once we have our F-statistic, we plug it into an F-distribution to get a p-value. You can find a table for these values in the back of any statistics book or there are far-easier python library(scipy) that will do this for you. With our specific degrees of freedom, an F-Statistic of 1611.73 yields a p-value 0."
   ]
  },
  {
   "cell_type": "code",
   "execution_count": 25,
   "id": "03d94223",
   "metadata": {},
   "outputs": [
    {
     "name": "stdout",
     "output_type": "stream",
     "text": [
      "P-Value : 0.0\n"
     ]
    }
   ],
   "source": [
    "from scipy.stats import f\n",
    "import matplotlib.pyplot as plt\n",
    "p_value = f.pdf(f_stat, dof_SSB, dof_SSW)\n",
    "print(\"P-Value : {}\".format(p_value))"
   ]
  },
  {
   "cell_type": "markdown",
   "id": "8e27f049",
   "metadata": {},
   "source": [
    "### Interpretation"
   ]
  },
  {
   "cell_type": "markdown",
   "id": "6e98cd5e",
   "metadata": {},
   "source": [
    "If $ p-value\\leqslant\\ \\alpha$ reject the null hypothesis. If $p-value>\\alpha$ fail to reject the null hypothesis.\n",
    "\n",
    "The P-value obtained from ANOVA analysis is significant $(p < 0.05)$, and therefore, we conclude that there are significant differences of MedValue among the groupes.<br>\n",
    "we have $\\alpha=0.05$ and $P-value=0<\\alpha$\n"
   ]
  },
  {
   "cell_type": "markdown",
   "id": "3237f6f8",
   "metadata": {},
   "source": [
    "------------------"
   ]
  },
  {
   "cell_type": "markdown",
   "id": "63904283",
   "metadata": {},
   "source": [
    "## Automatic ANOVA\n",
    "\n",
    "Like with most things in life, Python has an intuitive solution for conducting ANOVA with the statsmodel and bioinfokit librarys. The below code does all the calculations in this article and outputs a summary table complete with an F-statistic and p-value."
   ]
  },
  {
   "cell_type": "markdown",
   "id": "0874a67e",
   "metadata": {},
   "source": [
    "**Using statsmodels**"
   ]
  },
  {
   "cell_type": "code",
   "execution_count": 13,
   "id": "76bac250",
   "metadata": {},
   "outputs": [
    {
     "data": {
      "text/html": [
       "<div>\n",
       "<style scoped>\n",
       "    .dataframe tbody tr th:only-of-type {\n",
       "        vertical-align: middle;\n",
       "    }\n",
       "\n",
       "    .dataframe tbody tr th {\n",
       "        vertical-align: top;\n",
       "    }\n",
       "\n",
       "    .dataframe thead th {\n",
       "        text-align: right;\n",
       "    }\n",
       "</style>\n",
       "<table border=\"1\" class=\"dataframe\">\n",
       "  <thead>\n",
       "    <tr style=\"text-align: right;\">\n",
       "      <th></th>\n",
       "      <th>sum_sq</th>\n",
       "      <th>df</th>\n",
       "      <th>F</th>\n",
       "      <th>PR(&gt;F)</th>\n",
       "    </tr>\n",
       "  </thead>\n",
       "  <tbody>\n",
       "    <tr>\n",
       "      <th>Ocean_proximity</th>\n",
       "      <td>6543.715604</td>\n",
       "      <td>4.0</td>\n",
       "      <td>1612.140736</td>\n",
       "      <td>0.0</td>\n",
       "    </tr>\n",
       "    <tr>\n",
       "      <th>Residual</th>\n",
       "      <td>20939.482590</td>\n",
       "      <td>20635.0</td>\n",
       "      <td>NaN</td>\n",
       "      <td>NaN</td>\n",
       "    </tr>\n",
       "  </tbody>\n",
       "</table>\n",
       "</div>"
      ],
      "text/plain": [
       "                       sum_sq       df            F  PR(>F)\n",
       "Ocean_proximity   6543.715604      4.0  1612.140736     0.0\n",
       "Residual         20939.482590  20635.0          NaN     NaN"
      ]
     },
     "execution_count": 13,
     "metadata": {},
     "output_type": "execute_result"
    }
   ],
   "source": [
    "import statsmodels.api as sm\n",
    "from statsmodels.formula.api import ols\n",
    "\n",
    "# ANOVA Test \n",
    "model = ols('MedValue ~ Ocean_proximity', data=dataset).fit()\n",
    "anova = sm.stats.anova_lm(model, typ=2)\n",
    "\n",
    "anova"
   ]
  },
  {
   "cell_type": "markdown",
   "id": "ab5079ba",
   "metadata": {},
   "source": [
    "**Using statsmodels**"
   ]
  },
  {
   "cell_type": "code",
   "execution_count": 14,
   "id": "0b6c2cd7",
   "metadata": {
    "scrolled": true
   },
   "outputs": [
    {
     "data": {
      "text/html": [
       "<div>\n",
       "<style scoped>\n",
       "    .dataframe tbody tr th:only-of-type {\n",
       "        vertical-align: middle;\n",
       "    }\n",
       "\n",
       "    .dataframe tbody tr th {\n",
       "        vertical-align: top;\n",
       "    }\n",
       "\n",
       "    .dataframe thead th {\n",
       "        text-align: right;\n",
       "    }\n",
       "</style>\n",
       "<table border=\"1\" class=\"dataframe\">\n",
       "  <thead>\n",
       "    <tr style=\"text-align: right;\">\n",
       "      <th></th>\n",
       "      <th>df</th>\n",
       "      <th>sum_sq</th>\n",
       "      <th>mean_sq</th>\n",
       "      <th>F</th>\n",
       "      <th>PR(&gt;F)</th>\n",
       "    </tr>\n",
       "  </thead>\n",
       "  <tbody>\n",
       "    <tr>\n",
       "      <th>Ocean_proximity</th>\n",
       "      <td>4.0</td>\n",
       "      <td>6543.715604</td>\n",
       "      <td>1635.928901</td>\n",
       "      <td>1612.140736</td>\n",
       "      <td>0.0</td>\n",
       "    </tr>\n",
       "    <tr>\n",
       "      <th>Residual</th>\n",
       "      <td>20635.0</td>\n",
       "      <td>20939.482590</td>\n",
       "      <td>1.014756</td>\n",
       "      <td>NaN</td>\n",
       "      <td>NaN</td>\n",
       "    </tr>\n",
       "  </tbody>\n",
       "</table>\n",
       "</div>"
      ],
      "text/plain": [
       "                      df        sum_sq      mean_sq            F  PR(>F)\n",
       "Ocean_proximity      4.0   6543.715604  1635.928901  1612.140736     0.0\n",
       "Residual         20635.0  20939.482590     1.014756          NaN     NaN"
      ]
     },
     "execution_count": 14,
     "metadata": {},
     "output_type": "execute_result"
    }
   ],
   "source": [
    "from bioinfokit.analys import stat\n",
    "res = stat()\n",
    "res.anova_stat(df=dataset, res_var='MedValue', anova_model='MedValue ~ Ocean_proximity')\n",
    "res.anova_summary"
   ]
  },
  {
   "cell_type": "code",
   "execution_count": null,
   "id": "3408e3eb",
   "metadata": {},
   "outputs": [],
   "source": []
  },
  {
   "cell_type": "markdown",
   "id": "232a348b",
   "metadata": {},
   "source": [
    "## The limitations of ANOVA\n",
    "Whilst ANOVA will help you to analyse the difference in means between two independent variables, it won’t tell you which statistical groups were different from each other. If your test returns a significant F-statistic (the value you get when you run an ANOVA test)"
   ]
  },
  {
   "cell_type": "code",
   "execution_count": null,
   "id": "bb49b5e7",
   "metadata": {},
   "outputs": [],
   "source": []
  }
 ],
 "metadata": {
  "kernelspec": {
   "display_name": "Python 3 (ipykernel)",
   "language": "python",
   "name": "python3"
  },
  "language_info": {
   "codemirror_mode": {
    "name": "ipython",
    "version": 3
   },
   "file_extension": ".py",
   "mimetype": "text/x-python",
   "name": "python",
   "nbconvert_exporter": "python",
   "pygments_lexer": "ipython3",
   "version": "3.10.8"
  }
 },
 "nbformat": 4,
 "nbformat_minor": 5
}
